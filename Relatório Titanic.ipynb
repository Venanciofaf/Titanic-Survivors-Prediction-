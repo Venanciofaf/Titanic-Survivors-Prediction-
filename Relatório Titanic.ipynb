{
 "cells": [
  {
   "cell_type": "markdown",
   "id": "e3f55dd4",
   "metadata": {},
   "source": [
    "<h1> Sobreviventes do Titanic </h1> \n",
    "\n",
    "\n"
   ]
  },
  {
   "cell_type": "markdown",
   "id": "8d122dfd",
   "metadata": {},
   "source": [
    "![Imagem do Titanic](https://www.additiva.com.br/upload/blog/LJ9yDdWyL1QyZRZ40NkVurPwlbSv8dZr6Ekth0Tp.jpeg)"
   ]
  },
  {
   "cell_type": "markdown",
   "id": "9d9ab16a",
   "metadata": {},
   "source": [
    "<h2> Visão Geral do Projeto </h2> "
   ]
  },
  {
   "cell_type": "markdown",
   "id": "0d9879ae",
   "metadata": {},
   "source": [
    "O RMS Titanic, um transatlântico britânico construído pela Harland and Wolff para a White Star Line, era na época um dos maiores e mais luxuosos navios de passageiros do mundo. Iniciou sua viagem inaugural em 10 de abril de 1912, partindo de Southampton, Inglaterra, com destino a Nova York. O navio era uma maravilha da engenharia e luxo, incluindo instalações como piscina, ginásio, biblioteca e restaurantes de primeira classe.\n",
    "\n",
    "Na noite de 14 de abril, o Titanic colidiu com um iceberg no Atlântico Norte e afundou nas primeiras horas do dia 15. Este desastre resultou na morte de mais de 1.500 pessoas das aproximadamente 2.224 a bordo, marcando-o como um dos naufrágios mais mortais em tempos de paz. O trágico destino do Titanic provocou mudanças significativas nas leis de navegação e medidas de segurança marítima, simbolizando a hubris humana e a vulnerabilidade diante da natureza.\n",
    "\n",
    "A história do Titanic ganhou um lugar permanente na cultura popular, inspirando uma variedade de obras artísticas, incluindo o aclamado filme de 1997. O fascínio contínuo por seu legado reflete não apenas a tragédia do desastre, mas também as histórias humanas e as lições aprendidas com ele.\n",
    "\n",
    "Tendo em vista a importância histórica do Titanic, o projeto busca identificar características dos tripulantes do Navio que sobreviveram, por meio de bases de dados fornecidas pela plataforma Kaggle."
   ]
  },
  {
   "cell_type": "markdown",
   "id": "fdcafdcf",
   "metadata": {},
   "source": [
    "<h2> Objetivos "
   ]
  },
  {
   "cell_type": "markdown",
   "id": "506471f6",
   "metadata": {},
   "source": [
    "- Análise das características de cada tripulante para prever se ele sobreviveu, ou não;\n",
    "- Utilização de Modelos de Aprendizado de Máquina para treinar o algoritimo e identificar as tendências de cada perfil;\n"
   ]
  },
  {
   "cell_type": "markdown",
   "id": "0fd34ed9",
   "metadata": {},
   "source": [
    "<h2> Motivações </h2> \n",
    "\n",
    "A análise da Base de dados em questão, permite o entendimento das características em comum das pessoas sobreviventes,ou não, de um cruzeiro. Dessa forma, as métricas relevantes identificadas, podem ser utilizadas amplamente para que Cruzeiros, em geral, possam entender o quão sucetível o seu público está à morte, em caso de acidentes, e, com isso, trabalharem em medidas preventivas. "
   ]
  },
  {
   "cell_type": "markdown",
   "id": "dc9e6624",
   "metadata": {},
   "source": [
    "## Target"
   ]
  },
  {
   "cell_type": "code",
   "execution_count": null,
   "id": "4e8d0f36",
   "metadata": {},
   "outputs": [],
   "source": [
    "Nesse caso, a coluna que será utilizada como Target na Base de Dados, será a coluna 'Survived' , ao qual: \n",
    "    \n"
   ]
  },
  {
   "cell_type": "markdown",
   "id": "bafd8ce9",
   "metadata": {},
   "source": [
    "## 1. Inicialização e Tratamento dos Dados"
   ]
  },
  {
   "cell_type": "markdown",
   "id": "8d120ce9",
   "metadata": {},
   "source": [
    "Importação das Bibliotecas Necessárias \n"
   ]
  },
  {
   "cell_type": "code",
   "execution_count": 3,
   "id": "5e46fb01",
   "metadata": {},
   "outputs": [],
   "source": [
    "%matplotlib inline\n",
    "import pandas as pd\n",
    "pd.options.mode.chained_assignment = None\n",
    "from math import*\n",
    "import numpy as np\n",
    "import os\n",
    "import matplotlib.pyplot as plt\n",
    "import seaborn as sns\n",
    "import warnings\n",
    "warnings.simplefilter(action='ignore', category=FutureWarning)\n",
    "import folium.plugins \n",
    "from folium.plugins import HeatMap\n",
    "from sklearn.metrics import confusion_matrix \n",
    "from sklearn.model_selection import train_test_split \n",
    "from sklearn.tree import DecisionTreeClassifier \n",
    "from sklearn.metrics import accuracy_score \n",
    "from sklearn.metrics import classification_report \n",
    "from folium.plugins import HeatMap\n",
    "from sklearn.metrics import confusion_matrix \n",
    "from sklearn.metrics import accuracy_score \n",
    "from sklearn.preprocessing import LabelEncoder\n",
    "from sklearn.metrics import classification_report \n",
    "from sklearn.model_selection import train_test_split\n",
    "from sklearn.linear_model import LogisticRegression\n",
    "from sklearn import metrics\n",
    "import seaborn as sn\n",
    "import folium.plugins\n",
    "from folium.plugins import HeatMap\n",
    "from sklearn import preprocessing\n",
    "from sklearn.naive_bayes import MultinomialNB\n",
    "import scipy \n",
    "from sklearn.model_selection import train_test_split, cross_val_score, KFold\n",
    "from sklearn.model_selection import cross_val_predict\n",
    "from sklearn.metrics import confusion_matrix\n",
    "from sklearn.metrics import f1_score, precision_score, recall_score"
   ]
  },
  {
   "cell_type": "markdown",
   "id": "e9be84bc",
   "metadata": {},
   "source": [
    "Inicializando a Base de dados "
   ]
  },
  {
   "cell_type": "code",
   "execution_count": 9,
   "id": "9058f413",
   "metadata": {},
   "outputs": [
    {
     "data": {
      "text/plain": [
       "0    549\n",
       "1    342\n",
       "Name: Survived, dtype: int64"
      ]
     },
     "execution_count": 9,
     "metadata": {},
     "output_type": "execute_result"
    }
   ],
   "source": [
    "df = pd.read_csv('train.csv')\n",
    "\n",
    "df.Survived.value_counts()"
   ]
  },
  {
   "cell_type": "code",
   "execution_count": null,
   "id": "0e315525",
   "metadata": {},
   "outputs": [],
   "source": []
  }
 ],
 "metadata": {
  "kernelspec": {
   "display_name": "Python 3 (ipykernel)",
   "language": "python",
   "name": "python3"
  },
  "language_info": {
   "codemirror_mode": {
    "name": "ipython",
    "version": 3
   },
   "file_extension": ".py",
   "mimetype": "text/x-python",
   "name": "python",
   "nbconvert_exporter": "python",
   "pygments_lexer": "ipython3",
   "version": "3.9.13"
  }
 },
 "nbformat": 4,
 "nbformat_minor": 5
}
