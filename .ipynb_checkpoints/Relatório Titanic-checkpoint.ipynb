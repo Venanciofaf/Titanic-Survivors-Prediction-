{
 "cells": [
  {
   "cell_type": "markdown",
   "id": "57c0fb4e",
   "metadata": {},
   "source": [
    "<h1> Sobreviventes do Titanic </h1> \n",
    "\n",
    "\n"
   ]
  },
  {
   "cell_type": "markdown",
   "id": "0b7a982e",
   "metadata": {},
   "source": [
    "![Imagem do Titanic](https://www.additiva.com.br/upload/blog/LJ9yDdWyL1QyZRZ40NkVurPwlbSv8dZr6Ekth0Tp.jpeg)"
   ]
  },
  {
   "cell_type": "markdown",
   "id": "feeac8f9",
   "metadata": {},
   "source": [
    "<h2> Visão Geral do Projeto </h2> "
   ]
  },
  {
   "cell_type": "markdown",
   "id": "1300d3d4",
   "metadata": {},
   "source": [
    "O RMS Titanic, um transatlântico britânico construído pela Harland and Wolff para a White Star Line, era na época um dos maiores e mais luxuosos navios de passageiros do mundo. Iniciou sua viagem inaugural em 10 de abril de 1912, partindo de Southampton, Inglaterra, com destino a Nova York. O navio era uma maravilha da engenharia e luxo, incluindo instalações como piscina, ginásio, biblioteca e restaurantes de primeira classe.\n",
    "\n",
    "Na noite de 14 de abril, o Titanic colidiu com um iceberg no Atlântico Norte e afundou nas primeiras horas do dia 15. Este desastre resultou na morte de mais de 1.500 pessoas das aproximadamente 2.224 a bordo, marcando-o como um dos naufrágios mais mortais em tempos de paz. O trágico destino do Titanic provocou mudanças significativas nas leis de navegação e medidas de segurança marítima, simbolizando a hubris humana e a vulnerabilidade diante da natureza.\n",
    "\n",
    "A história do Titanic ganhou um lugar permanente na cultura popular, inspirando uma variedade de obras artísticas, incluindo o aclamado filme de 1997. O fascínio contínuo por seu legado reflete não apenas a tragédia do desastre, mas também as histórias humanas e as lições aprendidas com ele.\n",
    "\n",
    "Tendo em vista a importância histórica do Titanic, o projeto busca identificar características dos tripulantes do Navio que sobreviveram, por meio de bases de dados fornecidas pela plataforma Kaggle."
   ]
  },
  {
   "cell_type": "markdown",
   "id": "363d29bf",
   "metadata": {},
   "source": [
    "<h2> Objetivos "
   ]
  },
  {
   "cell_type": "markdown",
   "id": "a25cd64d",
   "metadata": {},
   "source": [
    "- Análise das características de cada tripulante para prever se ele sobreviveu, ou não;\n",
    "- Utilização de Modelos de Aprendizado de Máquina para treinar o algoritimo e identificar as tendências de cada perfil;\n"
   ]
  },
  {
   "cell_type": "markdown",
   "id": "b367c2f3",
   "metadata": {},
   "source": [
    "<h2> Motivações </h2> \n",
    "\n",
    "A análise da Base de dados em questão, permite o entendimento das características em comum das pessoas sobreviventes,ou não, de um cruzeiro. Dessa forma, as métricas relevantes identificadas, podem ser utilizadas amplamente para que Cruzeiros, em geral, possam entender o quão sucetível o seu público está à morte, em caso de acidentes, e, com isso, trabalharem em medidas preventivas. "
   ]
  },
  {
   "cell_type": "markdown",
   "id": "627089d2",
   "metadata": {},
   "source": [
    "## Target"
   ]
  },
  {
   "cell_type": "markdown",
   "id": "d1d85f13",
   "metadata": {},
   "source": [
    "Nesse caso, a coluna que será utilizada como Target na Base de Dados, será a coluna `Survived`, ao qual: \n",
    "    \n",
    "- 0 = Não Sobreviveu \n",
    "- 1 = Sobreviveu"
   ]
  },
  {
   "cell_type": "markdown",
   "id": "4f65fbc7",
   "metadata": {},
   "source": [
    "## Features"
   ]
  },
  {
   "cell_type": "markdown",
   "id": "6132de9b",
   "metadata": {},
   "source": [
    " * `Pclass`: indica a classe da passagem (*ticket*).\n",
    "    - 1 = 1st, \n",
    "    - 2 = 2nd, \n",
    "    - 3 = 3rd.\n",
    " * `Sex`: sexo do passageiro. \n",
    "    - female,\n",
    "    - male.\n",
    " * `Age`: idade em anos.\n",
    " * `Sibsp`: número de irmãos e/ou cônjuges a bordo do Titanic.\n",
    " * `Parch`: número de pais e/ou filhos a bordo do Titanic.\n",
    " * `Ticket`: número do *ticket*.\n",
    " * `Fare`: tarifa do passageiro.\n",
    " * `Cabin`: número da cabine.\n",
    " * `Embarked`: portão de embarque.\n",
    "    - C = Cherbourg, \n",
    "    - Q = Queenstown, \n",
    "    - S = Southampton.\n"
   ]
  },
  {
   "cell_type": "markdown",
   "id": "5ba88f12",
   "metadata": {},
   "source": [
    "## 1. Inicialização e Tratamento dos Dados"
   ]
  },
  {
   "cell_type": "markdown",
   "id": "a0b701f4",
   "metadata": {},
   "source": [
    "Importação das Bibliotecas Necessárias \n"
   ]
  },
  {
   "cell_type": "code",
   "execution_count": 214,
   "id": "cb5ad8f3",
   "metadata": {},
   "outputs": [],
   "source": [
    "%matplotlib inline\n",
    "import pandas as pd\n",
    "pd.options.mode.chained_assignment = None\n",
    "from math import*\n",
    "import numpy as np\n",
    "import os\n",
    "import matplotlib.pyplot as plt\n",
    "import seaborn as sns\n",
    "import warnings\n",
    "warnings.simplefilter(action='ignore', category=FutureWarning)\n",
    "import folium.plugins \n",
    "from folium.plugins import HeatMap\n",
    "from sklearn.metrics import confusion_matrix \n",
    "from sklearn.model_selection import train_test_split \n",
    "from sklearn.tree import DecisionTreeClassifier \n",
    "from sklearn.metrics import accuracy_score \n",
    "from sklearn.metrics import classification_report \n",
    "from folium.plugins import HeatMap\n",
    "from sklearn.metrics import confusion_matrix \n",
    "from sklearn.metrics import accuracy_score \n",
    "from sklearn.preprocessing import LabelEncoder\n",
    "from sklearn.metrics import classification_report \n",
    "from sklearn.model_selection import train_test_split\n",
    "from sklearn.linear_model import LogisticRegression\n",
    "from sklearn import metrics\n",
    "import seaborn as sn\n",
    "import folium.plugins\n",
    "from folium.plugins import HeatMap\n",
    "from sklearn import preprocessing\n",
    "from sklearn.naive_bayes import MultinomialNB\n",
    "import scipy \n",
    "from sklearn.model_selection import train_test_split, cross_val_score, KFold\n",
    "from sklearn.model_selection import cross_val_predict\n",
    "from sklearn.metrics import confusion_matrix\n",
    "from sklearn.metrics import f1_score, precision_score, recall_score"
   ]
  },
  {
   "cell_type": "markdown",
   "id": "9b6b1ab3",
   "metadata": {},
   "source": [
    "Inicializando a Base de dados "
   ]
  },
  {
   "cell_type": "code",
   "execution_count": 215,
   "id": "9e272628",
   "metadata": {},
   "outputs": [
    {
     "data": {
      "text/html": [
       "<div>\n",
       "<style scoped>\n",
       "    .dataframe tbody tr th:only-of-type {\n",
       "        vertical-align: middle;\n",
       "    }\n",
       "\n",
       "    .dataframe tbody tr th {\n",
       "        vertical-align: top;\n",
       "    }\n",
       "\n",
       "    .dataframe thead th {\n",
       "        text-align: right;\n",
       "    }\n",
       "</style>\n",
       "<table border=\"1\" class=\"dataframe\">\n",
       "  <thead>\n",
       "    <tr style=\"text-align: right;\">\n",
       "      <th></th>\n",
       "      <th>PassengerId</th>\n",
       "      <th>Survived</th>\n",
       "      <th>Pclass</th>\n",
       "      <th>Name</th>\n",
       "      <th>Sex</th>\n",
       "      <th>Age</th>\n",
       "      <th>SibSp</th>\n",
       "      <th>Parch</th>\n",
       "      <th>Ticket</th>\n",
       "      <th>Fare</th>\n",
       "      <th>Cabin</th>\n",
       "      <th>Embarked</th>\n",
       "    </tr>\n",
       "  </thead>\n",
       "  <tbody>\n",
       "    <tr>\n",
       "      <th>0</th>\n",
       "      <td>1</td>\n",
       "      <td>0</td>\n",
       "      <td>3</td>\n",
       "      <td>Braund, Mr. Owen Harris</td>\n",
       "      <td>male</td>\n",
       "      <td>22.0</td>\n",
       "      <td>1</td>\n",
       "      <td>0</td>\n",
       "      <td>A/5 21171</td>\n",
       "      <td>7.2500</td>\n",
       "      <td>NaN</td>\n",
       "      <td>S</td>\n",
       "    </tr>\n",
       "    <tr>\n",
       "      <th>1</th>\n",
       "      <td>2</td>\n",
       "      <td>1</td>\n",
       "      <td>1</td>\n",
       "      <td>Cumings, Mrs. John Bradley (Florence Briggs Th...</td>\n",
       "      <td>female</td>\n",
       "      <td>38.0</td>\n",
       "      <td>1</td>\n",
       "      <td>0</td>\n",
       "      <td>PC 17599</td>\n",
       "      <td>71.2833</td>\n",
       "      <td>C85</td>\n",
       "      <td>C</td>\n",
       "    </tr>\n",
       "    <tr>\n",
       "      <th>2</th>\n",
       "      <td>3</td>\n",
       "      <td>1</td>\n",
       "      <td>3</td>\n",
       "      <td>Heikkinen, Miss. Laina</td>\n",
       "      <td>female</td>\n",
       "      <td>26.0</td>\n",
       "      <td>0</td>\n",
       "      <td>0</td>\n",
       "      <td>STON/O2. 3101282</td>\n",
       "      <td>7.9250</td>\n",
       "      <td>NaN</td>\n",
       "      <td>S</td>\n",
       "    </tr>\n",
       "    <tr>\n",
       "      <th>3</th>\n",
       "      <td>4</td>\n",
       "      <td>1</td>\n",
       "      <td>1</td>\n",
       "      <td>Futrelle, Mrs. Jacques Heath (Lily May Peel)</td>\n",
       "      <td>female</td>\n",
       "      <td>35.0</td>\n",
       "      <td>1</td>\n",
       "      <td>0</td>\n",
       "      <td>113803</td>\n",
       "      <td>53.1000</td>\n",
       "      <td>C123</td>\n",
       "      <td>S</td>\n",
       "    </tr>\n",
       "    <tr>\n",
       "      <th>4</th>\n",
       "      <td>5</td>\n",
       "      <td>0</td>\n",
       "      <td>3</td>\n",
       "      <td>Allen, Mr. William Henry</td>\n",
       "      <td>male</td>\n",
       "      <td>35.0</td>\n",
       "      <td>0</td>\n",
       "      <td>0</td>\n",
       "      <td>373450</td>\n",
       "      <td>8.0500</td>\n",
       "      <td>NaN</td>\n",
       "      <td>S</td>\n",
       "    </tr>\n",
       "  </tbody>\n",
       "</table>\n",
       "</div>"
      ],
      "text/plain": [
       "   PassengerId  Survived  Pclass  \\\n",
       "0            1         0       3   \n",
       "1            2         1       1   \n",
       "2            3         1       3   \n",
       "3            4         1       1   \n",
       "4            5         0       3   \n",
       "\n",
       "                                                Name     Sex   Age  SibSp  \\\n",
       "0                            Braund, Mr. Owen Harris    male  22.0      1   \n",
       "1  Cumings, Mrs. John Bradley (Florence Briggs Th...  female  38.0      1   \n",
       "2                             Heikkinen, Miss. Laina  female  26.0      0   \n",
       "3       Futrelle, Mrs. Jacques Heath (Lily May Peel)  female  35.0      1   \n",
       "4                           Allen, Mr. William Henry    male  35.0      0   \n",
       "\n",
       "   Parch            Ticket     Fare Cabin Embarked  \n",
       "0      0         A/5 21171   7.2500   NaN        S  \n",
       "1      0          PC 17599  71.2833   C85        C  \n",
       "2      0  STON/O2. 3101282   7.9250   NaN        S  \n",
       "3      0            113803  53.1000  C123        S  \n",
       "4      0            373450   8.0500   NaN        S  "
      ]
     },
     "execution_count": 215,
     "metadata": {},
     "output_type": "execute_result"
    }
   ],
   "source": [
    "df = pd.read_csv('train.csv')\n",
    "\n",
    "df.head()"
   ]
  },
  {
   "cell_type": "code",
   "execution_count": 216,
   "id": "89d36340",
   "metadata": {},
   "outputs": [
    {
     "data": {
      "text/plain": [
       "Index(['PassengerId', 'Survived', 'Pclass', 'Name', 'Sex', 'Age', 'SibSp',\n",
       "       'Parch', 'Ticket', 'Fare', 'Cabin', 'Embarked'],\n",
       "      dtype='object')"
      ]
     },
     "execution_count": 216,
     "metadata": {},
     "output_type": "execute_result"
    }
   ],
   "source": [
    "df.columns"
   ]
  },
  {
   "cell_type": "markdown",
   "id": "9f26a3cf",
   "metadata": {},
   "source": [
    "<h3> 1.1 Tratamento de Valores Ausentes nas Colunas do DataFrame </h3>"
   ]
  },
  {
   "cell_type": "markdown",
   "id": "f56d80c1",
   "metadata": {},
   "source": [
    "Como a Coluna `Cabin` indica valores muito específicos, que se repetem pouco, e já remetem à identificação dos passageiros, além da questão de ser uma variável qualitativa, iremos remover a coluna do DataFrame, juntamente com a coluna 'Passenger ID' e 'Embarked', 'Name' e 'Ticket', que são Features apenas de Identificação do Registro, não indicando aánlise de perfil."
   ]
  },
  {
   "cell_type": "code",
   "execution_count": 217,
   "id": "973c5256",
   "metadata": {},
   "outputs": [
    {
     "data": {
      "text/html": [
       "<div>\n",
       "<style scoped>\n",
       "    .dataframe tbody tr th:only-of-type {\n",
       "        vertical-align: middle;\n",
       "    }\n",
       "\n",
       "    .dataframe tbody tr th {\n",
       "        vertical-align: top;\n",
       "    }\n",
       "\n",
       "    .dataframe thead th {\n",
       "        text-align: right;\n",
       "    }\n",
       "</style>\n",
       "<table border=\"1\" class=\"dataframe\">\n",
       "  <thead>\n",
       "    <tr style=\"text-align: right;\">\n",
       "      <th></th>\n",
       "      <th>Survived</th>\n",
       "      <th>Pclass</th>\n",
       "      <th>Sex</th>\n",
       "      <th>Age</th>\n",
       "      <th>SibSp</th>\n",
       "      <th>Parch</th>\n",
       "      <th>Fare</th>\n",
       "    </tr>\n",
       "  </thead>\n",
       "  <tbody>\n",
       "    <tr>\n",
       "      <th>0</th>\n",
       "      <td>0</td>\n",
       "      <td>3</td>\n",
       "      <td>male</td>\n",
       "      <td>22.0</td>\n",
       "      <td>1</td>\n",
       "      <td>0</td>\n",
       "      <td>7.2500</td>\n",
       "    </tr>\n",
       "    <tr>\n",
       "      <th>1</th>\n",
       "      <td>1</td>\n",
       "      <td>1</td>\n",
       "      <td>female</td>\n",
       "      <td>38.0</td>\n",
       "      <td>1</td>\n",
       "      <td>0</td>\n",
       "      <td>71.2833</td>\n",
       "    </tr>\n",
       "    <tr>\n",
       "      <th>2</th>\n",
       "      <td>1</td>\n",
       "      <td>3</td>\n",
       "      <td>female</td>\n",
       "      <td>26.0</td>\n",
       "      <td>0</td>\n",
       "      <td>0</td>\n",
       "      <td>7.9250</td>\n",
       "    </tr>\n",
       "    <tr>\n",
       "      <th>3</th>\n",
       "      <td>1</td>\n",
       "      <td>1</td>\n",
       "      <td>female</td>\n",
       "      <td>35.0</td>\n",
       "      <td>1</td>\n",
       "      <td>0</td>\n",
       "      <td>53.1000</td>\n",
       "    </tr>\n",
       "    <tr>\n",
       "      <th>4</th>\n",
       "      <td>0</td>\n",
       "      <td>3</td>\n",
       "      <td>male</td>\n",
       "      <td>35.0</td>\n",
       "      <td>0</td>\n",
       "      <td>0</td>\n",
       "      <td>8.0500</td>\n",
       "    </tr>\n",
       "  </tbody>\n",
       "</table>\n",
       "</div>"
      ],
      "text/plain": [
       "   Survived  Pclass     Sex   Age  SibSp  Parch     Fare\n",
       "0         0       3    male  22.0      1      0   7.2500\n",
       "1         1       1  female  38.0      1      0  71.2833\n",
       "2         1       3  female  26.0      0      0   7.9250\n",
       "3         1       1  female  35.0      1      0  53.1000\n",
       "4         0       3    male  35.0      0      0   8.0500"
      ]
     },
     "execution_count": 217,
     "metadata": {},
     "output_type": "execute_result"
    }
   ],
   "source": [
    "df= df.drop('Cabin' , axis = 1 )\n",
    "df = df.drop('PassengerId' , axis = 1)\n",
    "df = df.drop('Name' , axis = 1)\n",
    "df = df.drop('Embarked' , axis = 1)\n",
    "df = df.drop('Ticket' , axis=1)\n",
    "df.head()"
   ]
  },
  {
   "cell_type": "code",
   "execution_count": 218,
   "id": "0753e30a",
   "metadata": {},
   "outputs": [
    {
     "data": {
      "text/plain": [
       "Age    177\n",
       "dtype: int64"
      ]
     },
     "execution_count": 218,
     "metadata": {},
     "output_type": "execute_result"
    }
   ],
   "source": [
    "contagem_ausentes = df.isnull().sum() # A função Isnull, identifica os valores ausentes em cada Series, retornando com True ou False \n",
    "contagem_ausentes # Já a função 'sum', soma esses valores ausentes, para cada coluna\n",
    "ausentes = contagem_ausentes[contagem_ausentes > 0] # Essa linha imprime só as colunas que não têm valores \n",
    "ausentes"
   ]
  },
  {
   "cell_type": "markdown",
   "id": "67b33888",
   "metadata": {},
   "source": [
    "Percebe-se que a coluna `Age` possui 177 valores Nulos, mas, ao mesmo tempo, é uma coluna que apresenta relevância para a análise, logo, posso adotar as seguintes metodologias para preenchê-los: \n",
    "\n",
    "1.Preencher os Valores com os Valores das `Medianas` das idades; <br>\n",
    "2.Utilizar a Esperança, baseada no Modelo Normal de Probabilidade, e, a partir disso, preencher com essa Esperança; <br>\n",
    "3.Considerar outras variáveis que possam influenciar essa idade, e, a partir disso, calcular as medianas. <br> \n",
    "\n",
    "Para esse caso, vou considerar a 3ª opção: Utilizar as variáveis `PCLASS` e `SEX` para testar combinações e atingir a mediana para cada combinação em específica, visando um modelo de predição mais exato. "
   ]
  },
  {
   "cell_type": "code",
   "execution_count": 219,
   "id": "96054e10",
   "metadata": {},
   "outputs": [],
   "source": [
    "# Vamos utilizar a Função 'Groupby', que agrupo o Dataframe pelas features já mostradas \n",
    "\n",
    "df_agrupado = df.groupby(['Sex' , 'Pclass'])\n",
    "medianas_combinadas = df_agrupado['Age'].median()\n",
    "\n"
   ]
  },
  {
   "cell_type": "code",
   "execution_count": 220,
   "id": "96ee4021",
   "metadata": {},
   "outputs": [],
   "source": [
    "# Agora, é importante percorrer idade por idade, verificando se a linha é nula, para aplicar isso \n",
    "\n",
    "def aplica_mediana(linha): \n",
    "    if pd.isnull(linha['Age']): # Essa Parte Verifica se a Coluna idade da Respectiva Linha está preenchida, ou não\n",
    "        return medianas_combinadas[linha['Sex']][linha['Pclass']] \n",
    "    else: \n",
    "        return linha['Age']\n",
    "    \n",
    "    "
   ]
  },
  {
   "cell_type": "code",
   "execution_count": 221,
   "id": "a3fc272e",
   "metadata": {
    "scrolled": true
   },
   "outputs": [],
   "source": [
    "#Agora, vamos aplicar a função definida anteriormente, para, assim, termos as medianas dos Valores.\n",
    "df['Age'] = df.apply(aplica_mediana, axis=1) # A função 'Aplly' aplica a função sobre todas as linhas do DataFrame, baseado nas colunas \n"
   ]
  },
  {
   "cell_type": "code",
   "execution_count": 222,
   "id": "28106ec7",
   "metadata": {},
   "outputs": [
    {
     "data": {
      "text/plain": [
       "Survived    0\n",
       "Pclass      0\n",
       "Sex         0\n",
       "Age         0\n",
       "SibSp       0\n",
       "Parch       0\n",
       "Fare        0\n",
       "dtype: int64"
      ]
     },
     "execution_count": 222,
     "metadata": {},
     "output_type": "execute_result"
    }
   ],
   "source": [
    "#Vamos, agora, verificar se a metodologia foi bem-sucedida\n",
    "df.isnull().sum()"
   ]
  },
  {
   "cell_type": "markdown",
   "id": "2941208d",
   "metadata": {},
   "source": [
    "Dessa forma, como não há presença de valores nulos no DataFrame, temos que essa etapa está parcialmente encerrada.Logo, vamos para a parte de Conversão das Variáveis Qualitativas.\n",
    "\n",
    "`Obs`: Existem outras metodologias de Tratamentos de Valores Nulos que poderiam ser abordadas, cabendo, aqui, possíveis melhorias posteriores do modelo. "
   ]
  },
  {
   "cell_type": "markdown",
   "id": "9d2d85c2",
   "metadata": {},
   "source": [
    "<h3> 1.2. Conversão das Variáveis Categóricas </h3> "
   ]
  },
  {
   "cell_type": "markdown",
   "id": "37b6791b",
   "metadata": {},
   "source": [
    "Algumas variáveis estão declaradas como `Object`, o que mostra que o Pandas não reconhece-as como variáveis qualitativas. Assim, devemos transformá-las em variáveis categóricas:  "
   ]
  },
  {
   "cell_type": "code",
   "execution_count": 223,
   "id": "56be99a6",
   "metadata": {},
   "outputs": [
    {
     "data": {
      "text/plain": [
       "Survived      int64\n",
       "Pclass        int64\n",
       "Sex          object\n",
       "Age         float64\n",
       "SibSp         int64\n",
       "Parch         int64\n",
       "Fare        float64\n",
       "dtype: object"
      ]
     },
     "execution_count": 223,
     "metadata": {},
     "output_type": "execute_result"
    }
   ],
   "source": [
    "df.dtypes"
   ]
  },
  {
   "cell_type": "code",
   "execution_count": 224,
   "id": "ab7ae527",
   "metadata": {},
   "outputs": [
    {
     "data": {
      "text/plain": [
       "Survived    category\n",
       "Pclass      category\n",
       "Sex         category\n",
       "Age          float64\n",
       "SibSp          int64\n",
       "Parch          int64\n",
       "Fare         float64\n",
       "dtype: object"
      ]
     },
     "execution_count": 224,
     "metadata": {},
     "output_type": "execute_result"
    }
   ],
   "source": [
    "df.Pclass = df.Pclass.astype('category')\n",
    "df.Sex = df.Sex.astype('category')\n",
    "df.Survived = df.Survived.astype('category')\n",
    "df.dtypes"
   ]
  },
  {
   "cell_type": "markdown",
   "id": "f4c2b356",
   "metadata": {},
   "source": [
    "Temos, também, que mudar os Rótulos das `variáveis qualitativas`, para facilitar o entendimento pelo Python."
   ]
  },
  {
   "cell_type": "code",
   "execution_count": 225,
   "id": "5adea35a",
   "metadata": {},
   "outputs": [],
   "source": [
    "df.Sex.cat.categories = ['female','male'] # A função Cat.categories é utilizada, aqui, para renomear as variáveis qualitativas\n",
    "df.Pclass.cat.categories = ['1st','2nd','3rd'] #É possível utilizá-la,também, para visualizar os nomes, inicialmentw\n",
    "df.Survived.cat.categories = ['No', 'Yes']"
   ]
  },
  {
   "cell_type": "code",
   "execution_count": 226,
   "id": "df8bd7e9",
   "metadata": {},
   "outputs": [
    {
     "data": {
      "text/html": [
       "<div>\n",
       "<style scoped>\n",
       "    .dataframe tbody tr th:only-of-type {\n",
       "        vertical-align: middle;\n",
       "    }\n",
       "\n",
       "    .dataframe tbody tr th {\n",
       "        vertical-align: top;\n",
       "    }\n",
       "\n",
       "    .dataframe thead th {\n",
       "        text-align: right;\n",
       "    }\n",
       "</style>\n",
       "<table border=\"1\" class=\"dataframe\">\n",
       "  <thead>\n",
       "    <tr style=\"text-align: right;\">\n",
       "      <th></th>\n",
       "      <th>Survived</th>\n",
       "      <th>Pclass</th>\n",
       "      <th>Sex</th>\n",
       "      <th>Age</th>\n",
       "      <th>SibSp</th>\n",
       "      <th>Parch</th>\n",
       "      <th>Fare</th>\n",
       "    </tr>\n",
       "  </thead>\n",
       "  <tbody>\n",
       "    <tr>\n",
       "      <th>0</th>\n",
       "      <td>No</td>\n",
       "      <td>3rd</td>\n",
       "      <td>male</td>\n",
       "      <td>22.0</td>\n",
       "      <td>1</td>\n",
       "      <td>0</td>\n",
       "      <td>7.2500</td>\n",
       "    </tr>\n",
       "    <tr>\n",
       "      <th>1</th>\n",
       "      <td>Yes</td>\n",
       "      <td>1st</td>\n",
       "      <td>female</td>\n",
       "      <td>38.0</td>\n",
       "      <td>1</td>\n",
       "      <td>0</td>\n",
       "      <td>71.2833</td>\n",
       "    </tr>\n",
       "    <tr>\n",
       "      <th>2</th>\n",
       "      <td>Yes</td>\n",
       "      <td>3rd</td>\n",
       "      <td>female</td>\n",
       "      <td>26.0</td>\n",
       "      <td>0</td>\n",
       "      <td>0</td>\n",
       "      <td>7.9250</td>\n",
       "    </tr>\n",
       "    <tr>\n",
       "      <th>3</th>\n",
       "      <td>Yes</td>\n",
       "      <td>1st</td>\n",
       "      <td>female</td>\n",
       "      <td>35.0</td>\n",
       "      <td>1</td>\n",
       "      <td>0</td>\n",
       "      <td>53.1000</td>\n",
       "    </tr>\n",
       "    <tr>\n",
       "      <th>4</th>\n",
       "      <td>No</td>\n",
       "      <td>3rd</td>\n",
       "      <td>male</td>\n",
       "      <td>35.0</td>\n",
       "      <td>0</td>\n",
       "      <td>0</td>\n",
       "      <td>8.0500</td>\n",
       "    </tr>\n",
       "  </tbody>\n",
       "</table>\n",
       "</div>"
      ],
      "text/plain": [
       "  Survived Pclass     Sex   Age  SibSp  Parch     Fare\n",
       "0       No    3rd    male  22.0      1      0   7.2500\n",
       "1      Yes    1st  female  38.0      1      0  71.2833\n",
       "2      Yes    3rd  female  26.0      0      0   7.9250\n",
       "3      Yes    1st  female  35.0      1      0  53.1000\n",
       "4       No    3rd    male  35.0      0      0   8.0500"
      ]
     },
     "execution_count": 226,
     "metadata": {},
     "output_type": "execute_result"
    }
   ],
   "source": [
    "df.Sex = pd.Categorical(df.Sex, categories=['female','male'], ordered=False)\n",
    "df.Pclass = pd.Categorical(df.Pclass, categories=['1st','2nd','3rd'], ordered=True)\n",
    "df.Survived = pd.Categorical(df.Survived, categories=['No', 'Yes'], ordered=False)\n",
    "df.head()"
   ]
  },
  {
   "cell_type": "markdown",
   "id": "39bfb543",
   "metadata": {},
   "source": [
    "Diante disso, para finalizar a parte de tratamento e processamento dos dados, vou criar uma última coluna: `Family_size`, por meio da combinação das Features `SibSp` e `Parch`: "
   ]
  },
  {
   "cell_type": "code",
   "execution_count": 231,
   "id": "dc83fec2",
   "metadata": {},
   "outputs": [
    {
     "data": {
      "text/html": [
       "<div>\n",
       "<style scoped>\n",
       "    .dataframe tbody tr th:only-of-type {\n",
       "        vertical-align: middle;\n",
       "    }\n",
       "\n",
       "    .dataframe tbody tr th {\n",
       "        vertical-align: top;\n",
       "    }\n",
       "\n",
       "    .dataframe thead th {\n",
       "        text-align: right;\n",
       "    }\n",
       "</style>\n",
       "<table border=\"1\" class=\"dataframe\">\n",
       "  <thead>\n",
       "    <tr style=\"text-align: right;\">\n",
       "      <th></th>\n",
       "      <th>Survived</th>\n",
       "      <th>Pclass</th>\n",
       "      <th>Sex</th>\n",
       "      <th>Age</th>\n",
       "      <th>SibSp</th>\n",
       "      <th>Parch</th>\n",
       "      <th>Fare</th>\n",
       "      <th>Family_size</th>\n",
       "    </tr>\n",
       "  </thead>\n",
       "  <tbody>\n",
       "    <tr>\n",
       "      <th>0</th>\n",
       "      <td>No</td>\n",
       "      <td>3rd</td>\n",
       "      <td>male</td>\n",
       "      <td>22.0</td>\n",
       "      <td>1</td>\n",
       "      <td>0</td>\n",
       "      <td>7.2500</td>\n",
       "      <td>2</td>\n",
       "    </tr>\n",
       "    <tr>\n",
       "      <th>1</th>\n",
       "      <td>Yes</td>\n",
       "      <td>1st</td>\n",
       "      <td>female</td>\n",
       "      <td>38.0</td>\n",
       "      <td>1</td>\n",
       "      <td>0</td>\n",
       "      <td>71.2833</td>\n",
       "      <td>2</td>\n",
       "    </tr>\n",
       "    <tr>\n",
       "      <th>2</th>\n",
       "      <td>Yes</td>\n",
       "      <td>3rd</td>\n",
       "      <td>female</td>\n",
       "      <td>26.0</td>\n",
       "      <td>0</td>\n",
       "      <td>0</td>\n",
       "      <td>7.9250</td>\n",
       "      <td>1</td>\n",
       "    </tr>\n",
       "    <tr>\n",
       "      <th>3</th>\n",
       "      <td>Yes</td>\n",
       "      <td>1st</td>\n",
       "      <td>female</td>\n",
       "      <td>35.0</td>\n",
       "      <td>1</td>\n",
       "      <td>0</td>\n",
       "      <td>53.1000</td>\n",
       "      <td>2</td>\n",
       "    </tr>\n",
       "    <tr>\n",
       "      <th>4</th>\n",
       "      <td>No</td>\n",
       "      <td>3rd</td>\n",
       "      <td>male</td>\n",
       "      <td>35.0</td>\n",
       "      <td>0</td>\n",
       "      <td>0</td>\n",
       "      <td>8.0500</td>\n",
       "      <td>1</td>\n",
       "    </tr>\n",
       "  </tbody>\n",
       "</table>\n",
       "</div>"
      ],
      "text/plain": [
       "  Survived Pclass     Sex   Age  SibSp  Parch     Fare  Family_size\n",
       "0       No    3rd    male  22.0      1      0   7.2500            2\n",
       "1      Yes    1st  female  38.0      1      0  71.2833            2\n",
       "2      Yes    3rd  female  26.0      0      0   7.9250            1\n",
       "3      Yes    1st  female  35.0      1      0  53.1000            2\n",
       "4       No    3rd    male  35.0      0      0   8.0500            1"
      ]
     },
     "execution_count": 231,
     "metadata": {},
     "output_type": "execute_result"
    }
   ],
   "source": [
    "df['Family_size'] = df.SibSp + df.Parch + 1\n",
    "df.head()"
   ]
  },
  {
   "cell_type": "markdown",
   "id": "f4cfd537",
   "metadata": {},
   "source": [
    "Baseado no Processo de Processamento da Base de dados, temos que a Base de dados já está apropriada para começarmos a analisar uma questão relevante: A Análise Exploratória."
   ]
  },
  {
   "cell_type": "markdown",
   "id": "f5f1a9f4",
   "metadata": {},
   "source": [
    "<h2>2. Análise Exploratória dos Dados (EDA) </h2> "
   ]
  },
  {
   "cell_type": "markdown",
   "id": "19988f78",
   "metadata": {},
   "source": [
    "\n",
    "\n",
    "### O que é EDA?\n",
    "A Análise Exploratória de Dados (EDA) é um processo inicial crucial em qualquer projeto de Machine Learning ou análise de dados. Ela envolve uma série de técnicas para:\n",
    "- Visualizar,\n",
    "- Sumarizar,\n",
    "- e Interpretar os dados disponíveis.\n",
    "\n",
    "O objetivo da EDA é obter insights, descobrir padrões, identificar anomalias ou inconsistências, e formular hipóteses com base nas características observadas nos dados.\n",
    "\n",
    "### Importância da EDA no Projeto\n",
    "1. **Compreensão dos Dados**: A EDA ajuda a entender a natureza e a qualidade dos dados, incluindo distribuições, correlações e presença de valores ausentes ou outliers.\n",
    "\n",
    "2. **Direcionamento para Modelagem**: As observações feitas durante a EDA podem direcionar a seleção de modelos apropriados e técnicas de pré-processamento.\n",
    "\n",
    "3. **Identificação de Problemas**: A identificação precoce de problemas nos dados (como valores ausentes ou outliers) pode economizar tempo e esforço em etapas posteriores do projeto.\n",
    "\n",
    "4. **Geração de Hipóteses**: A análise dos dados pode levar à formulação de hipóteses que podem ser testadas com modelos estatísticos ou de Machine Learning.\n",
    "\n",
    "5. **Feature Engineering**: A EDA pode revelar oportunidades para a criação de novas features que podem melhorar o desempenho dos modelos.\n"
   ]
  },
  {
   "cell_type": "code",
   "execution_count": 233,
   "id": "3b40f793",
   "metadata": {},
   "outputs": [
    {
     "data": {
      "text/plain": [
       "Survived       category\n",
       "Pclass         category\n",
       "Sex            category\n",
       "Age             float64\n",
       "SibSp             int64\n",
       "Parch             int64\n",
       "Fare            float64\n",
       "Family_size       int64\n",
       "dtype: object"
      ]
     },
     "execution_count": 233,
     "metadata": {},
     "output_type": "execute_result"
    }
   ],
   "source": [
    "df.dtypes"
   ]
  },
  {
   "cell_type": "markdown",
   "id": "002e6307",
   "metadata": {},
   "source": [
    "<h3> 2.1. Separando o DataFrame em variáveis Categóricas </h3> \n",
    "\n",
    "Nesse momento, quero entender como as variáveis qualitativas relacionam-se com a Sobrevivência da Pessoa, dessa forma, vou observar as variáveis `Pclass` e `Sex.`"
   ]
  },
  {
   "cell_type": "code",
   "execution_count": 235,
   "id": "5095d1f0",
   "metadata": {},
   "outputs": [],
   "source": [
    "#Separação do Dataframe Somente para as variáveis Categóricas \n",
    "\n",
    "\n",
    "df_categoricas = df.select_dtypes(include=['category', 'object'])"
   ]
  },
  {
   "cell_type": "markdown",
   "id": "a3414f8a",
   "metadata": {},
   "source": [
    "**Análise do Número de Sobreviventes** "
   ]
  },
  {
   "cell_type": "code",
   "execution_count": 330,
   "id": "e9230b76",
   "metadata": {},
   "outputs": [
    {
     "data": {
      "image/png": "[encoded data removed]",
      "text/plain": [
       "<Figure size 800x800 with 2 Axes>"
      ]
     },
     "metadata": {},
     "output_type": "display_data"
    }
   ],
   "source": [
    "plt.figure(figsize = (8,8)) #Ajuste do tamanho da imagem \n",
    "\n",
    "\n",
    "sns.set(style = 'darkgrid') #Mudando o Fundo \n",
    " \n",
    "\n",
    "plt.subplot(211)\n",
    "\n",
    "sns.set_palette('pastel') #Mudando a Paleta de cores da Imagem \n",
    "sns.countplot(y='Survived', data=df) #Barplot \n",
    "\n",
    "plt.title('Contagem de Sobreviventes e Não Sobreviventes')\n",
    "plt.xlabel('Sobreviveu')\n",
    "plt.ylabel('Número de Passageiros')\n",
    "\n",
    "plt.subplot(212)\n",
    "plt.pie(contagem_survives, labels=contagem_survives.index, autopct='%1.1f%%', startangle=90)\n",
    "\n",
    "plt.title('Survived?')\n",
    "plt.tight_layout(pad=3.0) #Ajustando o Espaçamento entre os gráficos \n",
    "plt.show()"
   ]
  },
  {
   "cell_type": "code",
   "execution_count": null,
   "id": "a9bb2917",
   "metadata": {},
   "outputs": [],
   "source": []
  }
 ],
 "metadata": {
  "kernelspec": {
   "display_name": "Python 3 (ipykernel)",
   "language": "python",
   "name": "python3"
  },
  "language_info": {
   "codemirror_mode": {
    "name": "ipython",
    "version": 3
   },
   "file_extension": ".py",
   "mimetype": "text/x-python",
   "name": "python",
   "nbconvert_exporter": "python",
   "pygments_lexer": "ipython3",
   "version": "3.9.13"
  }
 },
 "nbformat": 4,
 "nbformat_minor": 5
}
